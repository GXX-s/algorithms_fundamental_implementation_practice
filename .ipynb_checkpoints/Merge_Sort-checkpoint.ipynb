{
 "cells": [
  {
   "cell_type": "code",
   "execution_count": null,
   "metadata": {},
   "outputs": [],
   "source": []
  },
  {
   "cell_type": "markdown",
   "metadata": {},
   "source": [
    "Merge Sort is a Divide and Conquer algorithm. \n",
    "\n",
    "It divides the input array into two halves, calls itself for the two halves, and then merges the two sorted halves. \n",
    "\n",
    "The mergesort() function is used for merging two halves. \n",
    "\n"
   ]
  },
  {
   "cell_type": "code",
   "execution_count": 9,
   "metadata": {
    "ExecuteTime": {
     "end_time": "2021-05-23T08:04:15.102767Z",
     "start_time": "2021-05-23T08:04:15.100317Z"
    }
   },
   "outputs": [],
   "source": [
    "import numpy as np\n",
    "import timeit"
   ]
  },
  {
   "cell_type": "code",
   "execution_count": 15,
   "metadata": {
    "ExecuteTime": {
     "end_time": "2021-05-23T08:05:55.588813Z",
     "start_time": "2021-05-23T08:05:55.586258Z"
    }
   },
   "outputs": [],
   "source": [
    "iList = list(np.random.randint(low=1, high=100, size=20))\n",
    "iList"
   ]
  },
  {
   "cell_type": "code",
   "execution_count": 18,
   "metadata": {
    "ExecuteTime": {
     "end_time": "2021-05-23T08:29:32.565825Z",
     "start_time": "2021-05-23T08:29:32.555112Z"
    }
   },
   "outputs": [
    {
     "name": "stdout",
     "output_type": "stream",
     "text": [
      "[9, 42, 96, 30, 82, 1, 7, 68, 15, 17, 24, 98, 83, 95, 82, 48, 27, 59, 97, 38]\n",
      "[1, 7, 9, 15, 17, 24, 27, 30, 38, 42, 48, 59, 68, 82, 82, 83, 95, 96, 97, 98]\n",
      "0.003214626000044518\n"
     ]
    }
   ],
   "source": [
    "def mergeSort(iList):\n",
    "    '''\n",
    "    Divide the list into two halves\n",
    "    and return the mergered list\n",
    "    \n",
    "    '''\n",
    "    if len(iList) <=1:\n",
    "        return iList\n",
    "    middle = len(iList)//2   #use the integer division operator\n",
    "    left, right = iList[0:middle], iList[middle:]\n",
    "    return mergeList(mergeSort(left),mergeSort(right))\n",
    "\n",
    "\n",
    "def mergeList(left, right):\n",
    "    mList = []\n",
    "    \n",
    "    while left and right:\n",
    "        if left[0] >=right[0]:\n",
    "            mList.append(right.pop(0))\n",
    "        else:\n",
    "            mList.append(left.pop(0)) \n",
    "    ## need to consider the case where the length of left and right are diff\n",
    "    while left:\n",
    "        mList.append(left.pop(0)) \n",
    "    while right:\n",
    "        mList.append(right.pop(0)) \n",
    "    return mList\n",
    "\n",
    "\n",
    "if __name__ == '__main__':\n",
    "    print(iList)\n",
    "    print(mergeSort(iList))\n",
    "    print(timeit.timeit('mergeSort(iList)','from __main__ import mergeSort,iList',number = 100))\n",
    "        "
   ]
  },
  {
   "cell_type": "code",
   "execution_count": null,
   "metadata": {},
   "outputs": [],
   "source": []
  }
 ],
 "metadata": {
  "kernelspec": {
   "display_name": "Python 3",
   "language": "python",
   "name": "python3"
  },
  "language_info": {
   "codemirror_mode": {
    "name": "ipython",
    "version": 3
   },
   "file_extension": ".py",
   "mimetype": "text/x-python",
   "name": "python",
   "nbconvert_exporter": "python",
   "pygments_lexer": "ipython3",
   "version": "3.8.3"
  },
  "toc": {
   "base_numbering": 1,
   "nav_menu": {},
   "number_sections": true,
   "sideBar": true,
   "skip_h1_title": false,
   "title_cell": "Table of Contents",
   "title_sidebar": "Contents",
   "toc_cell": false,
   "toc_position": {},
   "toc_section_display": true,
   "toc_window_display": false
  },
  "varInspector": {
   "cols": {
    "lenName": 16,
    "lenType": 16,
    "lenVar": 40
   },
   "kernels_config": {
    "python": {
     "delete_cmd_postfix": "",
     "delete_cmd_prefix": "del ",
     "library": "var_list.py",
     "varRefreshCmd": "print(var_dic_list())"
    },
    "r": {
     "delete_cmd_postfix": ") ",
     "delete_cmd_prefix": "rm(",
     "library": "var_list.r",
     "varRefreshCmd": "cat(var_dic_list()) "
    }
   },
   "types_to_exclude": [
    "module",
    "function",
    "builtin_function_or_method",
    "instance",
    "_Feature"
   ],
   "window_display": false
  }
 },
 "nbformat": 4,
 "nbformat_minor": 4
}
